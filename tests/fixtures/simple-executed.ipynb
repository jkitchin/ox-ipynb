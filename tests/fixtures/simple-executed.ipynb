{
 "cells": [
  {
   "cell_type": "markdown",
   "id": "74a42d91-fc7a-4f7c-a3e0-bd3a660f18f2",
   "metadata": {},
   "source": [
    "\n",
    "\n",
    "# Introduction\n",
    "\n",
    "This is a simple test document for ox-ipynb-v2.\n",
    "\n",
    "\n",
    "## Code Example\n",
    "\n",
    "Here is a simple Python code block:\n",
    "\n"
   ]
  },
  {
   "cell_type": "code",
   "execution_count": 1,
   "id": "ec8b0384-70d4-455f-87dd-d71c5dbec2ec",
   "metadata": {
    "execution": {
     "iopub.execute_input": "2025-10-17T12:27:08.908959Z",
     "iopub.status.busy": "2025-10-17T12:27:08.908667Z",
     "iopub.status.idle": "2025-10-17T12:27:08.914762Z",
     "shell.execute_reply": "2025-10-17T12:27:08.914390Z"
    }
   },
   "outputs": [
    {
     "name": "stdout",
     "output_type": "stream",
     "text": [
      "Hello, World!\n",
      "2 + 2 = 4\n"
     ]
    }
   ],
   "source": [
    "print(\"Hello, World!\")\n",
    "x = 2 + 2\n",
    "print(f\"2 + 2 = {x}\")\n"
   ]
  },
  {
   "cell_type": "markdown",
   "id": "22ce17c1-ce17-460f-bea2-6e7be098e78c",
   "metadata": {},
   "source": [
    "\n",
    "\n",
    "\n",
    "## Markdown Content\n",
    "\n",
    "This section contains:\n",
    "\n",
    "-   Bullet points\n",
    "-   **Bold text**\n",
    "-   *Italic text*\n",
    "-   `Code`\n",
    "\n",
    "\n",
    "## Math\n",
    "\n",
    "Here is an equation: $E = mc^2$\n",
    "\n",
    "And a displayed equation:\n",
    "\n",
    "$$\\int_0^1 x^2 dx = \\frac{1}{3}$$\n",
    "\n"
   ]
  }
 ],
 "metadata": {
  "kernelspec": {
   "display_name": "Python 3",
   "language": "python",
   "name": "python3"
  },
  "language_info": {
   "codemirror_mode": {
    "name": "ipython",
    "version": 3
   },
   "file_extension": ".py",
   "mimetype": "text/x-python",
   "name": "python",
   "nbconvert_exporter": "python",
   "pygments_lexer": "ipython3",
   "version": "3.12.11"
  }
 },
 "nbformat": 4,
 "nbformat_minor": 5
}
